{
 "cells": [
  {
   "attachments": {},
   "cell_type": "markdown",
   "metadata": {},
   "source": [
    "<img src=\"./logo_UTN.svg\" align=\"right\" width=\"200\" /> \n",
    "\n",
    "#### Teoría de los Circuitos 2\n",
    "\n",
    "# Trabajo semanal 9\n",
    "\n",
    "#### Ana Nuñez\n",
    "\n"
   ]
  },
  {
   "cell_type": "markdown",
   "metadata": {},
   "source": [
    "# Consigna\n",
    "\n",
    "Síntesis de funciones de excitación\n",
    "\n",
    "1) Sea la función:\n",
    "\n",
    "    $ Z(s) = \\frac{(s2+3)(s2+1)}{s(s2+2)} $\n",
    "\n",
    "    Se pide hallar la topología circuital y los valores de los componentes para:\n",
    "\n",
    "    a) Síntesis de Z(s) mediante el método de Foster en su versión  \"paralelo\" o \"derivación\".\n",
    "\n",
    "    b) Idem a) mediante Cauer 1 y 2.\n",
    "\n",
    "2) Sea \n",
    "\n",
    "    $ Y(s) = \\frac{3s(s2+7/3)}{(s2+2)(s2+5)} $\n",
    "\n",
    "    Obtenga los valores de los componentes de la siguiente red sabiendo que L2 y C2 resuenan a 1 r/s."
   ]
  },
  {
   "cell_type": "markdown",
   "metadata": {},
   "source": [
    "# Desarrollo analítico\n"
   ]
  },
  {
   "cell_type": "code",
   "execution_count": 1,
   "metadata": {},
   "outputs": [
    {
     "data": {
      "text/html": [
       "\n",
       "        <iframe\n",
       "            width=\"1000\"\n",
       "            height=\"1000\"\n",
       "            src=\"./TS7.pdf\"\n",
       "            frameborder=\"0\"\n",
       "            allowfullscreen\n",
       "            \n",
       "        ></iframe>\n",
       "        "
      ],
      "text/plain": [
       "<IPython.lib.display.IFrame at 0x1cc2d0be7c0>"
      ]
     },
     "execution_count": 1,
     "metadata": {},
     "output_type": "execute_result"
    }
   ],
   "source": [
    "\n",
    "from IPython.display import IFrame\n",
    "IFrame(\"./TS7.pdf\", width=1000, height=1000)"
   ]
  }
 ],
 "metadata": {
  "kernelspec": {
   "display_name": "Python 3 (ipykernel)",
   "language": "python",
   "name": "python3"
  },
  "language_info": {
   "codemirror_mode": {
    "name": "ipython",
    "version": 3
   },
   "file_extension": ".py",
   "mimetype": "text/x-python",
   "name": "python",
   "nbconvert_exporter": "python",
   "pygments_lexer": "ipython3",
   "version": "3.9.13"
  }
 },
 "nbformat": 4,
 "nbformat_minor": 4
}
